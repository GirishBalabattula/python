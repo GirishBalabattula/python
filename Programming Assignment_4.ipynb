{
 "cells": [
  {
   "cell_type": "markdown",
   "metadata": {},
   "source": [
    "# Programming Assignment_4"
   ]
  },
  {
   "cell_type": "markdown",
   "metadata": {},
   "source": [
    "1. Write a Python Program to Find the Factorial of a Number?\n",
    "2. Write a Python Program to Display the multiplication Table?\n",
    "3. Write a Python Program to Print the Fibonacci sequence?\n",
    "4. Write a Python Program to Check Armstrong Number?\n",
    "5. Write a Python Program to Find Armstrong Number in an Interval?\n",
    "6. Write a Python Program to Find the Sum of Natural Numbers?"
   ]
  },
  {
   "cell_type": "markdown",
   "metadata": {},
   "source": [
    "# Q1. Write a Python Program to Find the Factorial of a Number?"
   ]
  },
  {
   "cell_type": "code",
   "execution_count": 4,
   "metadata": {},
   "outputs": [
    {
     "name": "stdout",
     "output_type": "stream",
     "text": [
      "Enter an integer value6\n",
      "6! = 720\n"
     ]
    }
   ],
   "source": [
    "#Q1. Write a Python Program to Find the Factorial of a Number?\n",
    "def factorial(num):\n",
    "    if num >= 0:\n",
    "        if num == 0:\n",
    "            return 1\n",
    "        else:\n",
    "            return num * factorial(num - 1)\n",
    "    else:\n",
    "        return \"Factorial is not exist for negative numbers\"\n",
    "    \n",
    "    \n",
    "#function usage code:    \n",
    "try:\n",
    "    num = int(input(\"Enter an integer value\"))   #Taking user input.\n",
    "    fact = factorial(num)                        #Calling Factorial functions.\n",
    "    print(f\"{num}! = {fact}\")\n",
    "except ValueError as e:                          # Handling the error existed in try block.\n",
    "    print(\"Value ERROR : \",e)\n",
    "except Exception as e:\n",
    "    print(\"error : \",e)\n",
    "    "
   ]
  },
  {
   "cell_type": "markdown",
   "metadata": {},
   "source": [
    "# Q2. Write a Python Program to Display the multiplication Table?"
   ]
  },
  {
   "cell_type": "code",
   "execution_count": 6,
   "metadata": {},
   "outputs": [
    {
     "name": "stdout",
     "output_type": "stream",
     "text": [
      "Enter a number for multiplication table6\n",
      "Enter limit of table10\n",
      "6 * 1 = 6\n",
      "6 * 2 = 12\n",
      "6 * 3 = 18\n",
      "6 * 4 = 24\n",
      "6 * 5 = 30\n",
      "6 * 6 = 36\n",
      "6 * 7 = 42\n",
      "6 * 8 = 48\n",
      "6 * 9 = 54\n",
      "6 * 10 = 60\n"
     ]
    }
   ],
   "source": [
    "#Q2. Write a Python Program to Display the multiplication Table?\n",
    "\n",
    "def multiplication(num, limit):\n",
    "    for i in range(1,limit+1):\n",
    "        print(f\"{num} * {i} = {num*i}\")\n",
    "        \n",
    "\n",
    "#function usage code:    \n",
    "try:\n",
    "    num = int(input(\"Enter a number for multiplication table\"))   #Taking user input.\n",
    "    limit = int(input(\"Enter limit of table\"))\n",
    "    multiplication(num,limit)                        #Calling multiplication function.\n",
    "    \n",
    "except ValueError as e:                       \n",
    "    print(\"Value ERROR : \",e)\n",
    "except Exception as e:\n",
    "    print(\"error : \",e)"
   ]
  },
  {
   "cell_type": "markdown",
   "metadata": {},
   "source": [
    "# Q3. Write a Python Program to Print the Fibonacci sequence?"
   ]
  },
  {
   "cell_type": "code",
   "execution_count": 9,
   "metadata": {},
   "outputs": [
    {
     "name": "stdout",
     "output_type": "stream",
     "text": [
      "Enter range of fibonacci sequence10\n",
      "0\n",
      "1\n",
      "1\n",
      "2\n",
      "3\n",
      "5\n",
      "8\n",
      "13\n",
      "21\n",
      "34\n"
     ]
    }
   ],
   "source": [
    "#Q3. Write a Python Program to Print the Fibonacci sequence?\n",
    "\n",
    "def fibonacci(n):\n",
    "    a,b = 0,1\n",
    "    for i in range(n):\n",
    "        print(a)\n",
    "        a,b = b, a+b\n",
    "        \n",
    "        \n",
    "#function usage code:    \n",
    "while True:\n",
    "        \n",
    "    try:\n",
    "        num = int(input(\"Enter range of fibonacci sequence\"))   \n",
    "        fibonacci(num)                  \n",
    "\n",
    "    except ValueError as e:                       \n",
    "        print(\"Value error : \",e)\n",
    "    except Exception as e:\n",
    "        print(\"Error : \",e)\n",
    "    else:\n",
    "        break\n"
   ]
  },
  {
   "cell_type": "markdown",
   "metadata": {},
   "source": [
    "# Q4. Write a Python Program to Check Armstrong Number?"
   ]
  },
  {
   "cell_type": "markdown",
   "metadata": {},
   "source": [
    "# Armstrong.py"
   ]
  },
  {
   "cell_type": "code",
   "execution_count": null,
   "metadata": {},
   "outputs": [],
   "source": [
    "#Armstrong.py file:\n",
    "\n",
    "import math\n",
    "def ArmstrongNumber(num):\n",
    "    \"\"\"\n",
    "    This function is used to check a number is armstrong number or not.\n",
    "    \"\"\"\n",
    "    temp, temp1 = num, num\n",
    "    sum, n = 0,0\n",
    "    \n",
    "    while temp1 > 0:\n",
    "        temp1 = temp1 // 10\n",
    "        n += 1\n",
    "    \n",
    "    while temp > 0:\n",
    "        r = temp % 10\n",
    "        sum = sum + math.pow(r, n)\n",
    "        temp = temp // 10\n",
    "\n",
    "    if num == sum :\n",
    "        return f\"{num} is armstrong \"\n",
    "    else:\n",
    "        return f\"{num} is not armstrong \""
   ]
  },
  {
   "cell_type": "code",
   "execution_count": 2,
   "metadata": {},
   "outputs": [
    {
     "name": "stdout",
     "output_type": "stream",
     "text": [
      "enter a number to check armstrong or not8208\n",
      "8208 is armstrong \n"
     ]
    }
   ],
   "source": [
    "\n",
    "import Armstrong\n",
    "import logging as lg\n",
    "\n",
    "lg.basicConfig(filename = \"armstrong.log\", level = lg.INFO, format = '%(asctime)s %(levelname)s %(message)s')\n",
    "\n",
    "while True:\n",
    "    \n",
    "    try:\n",
    "        num = int(input(\"enter a number to check armstrong or not\"))\n",
    "        lg.info(\"User enter value :\" + str(num))\n",
    "        armNum = Armstrong.ArmstrongNumber(num)\n",
    "        print(armNum)\n",
    "        #lg.info(str(armNum))\n",
    "        \n",
    "    except ValueError as e:\n",
    "        lg.info(e)\n",
    "        \n",
    "    except Exception as e:\n",
    "        lg.info(e)\n",
    "        \n",
    "    else:\n",
    "        lg.info(str(armNum))\n",
    "        break\n",
    "           "
   ]
  },
  {
   "cell_type": "markdown",
   "metadata": {},
   "source": [
    "# Q5. Write a Python Program to Find Armstrong Number in an Interval?"
   ]
  },
  {
   "cell_type": "markdown",
   "metadata": {},
   "source": [
    "# ArmstrongNumberInterval.py"
   ]
  },
  {
   "cell_type": "code",
   "execution_count": null,
   "metadata": {},
   "outputs": [],
   "source": [
    "#Q5. Write a Python Program to Find Armstrong Number in an Interval?\n",
    "\n",
    "# ArmstrongNumberInterval.py\n",
    "import math\n",
    "def ArmstrongInterval(lower, upper):\n",
    "    \"\"\"\n",
    "    A number is an Armstrong Number or narcissistic number if it is equal to the sum of its own digits \n",
    "    raised to the power of the number of digits.\n",
    "    \n",
    "    \"\"\"\n",
    "    \n",
    "    for num in range(lower, upper+1):\n",
    "        temp,  temp1 = num, num\n",
    "        sum, n = 0, 0\n",
    "        \n",
    "        while temp1 > 0:\n",
    "            temp1 = temp1 // 10\n",
    "            n += 1\n",
    "            \n",
    "        while temp > 0:\n",
    "            r = temp % 10\n",
    "            sum = sum + math.pow(r, n)\n",
    "            temp = temp // 10\n",
    "\n",
    "        if num == sum :\n",
    "            print( f\"{num} armstrong \")\n",
    "            "
   ]
  },
  {
   "cell_type": "code",
   "execution_count": 3,
   "metadata": {},
   "outputs": [
    {
     "name": "stdout",
     "output_type": "stream",
     "text": [
      "enter lower limit0\n",
      "enter upper limit1oo\n"
     ]
    },
    {
     "name": "stderr",
     "output_type": "stream",
     "text": [
      "2021-05-13 20:13:04,075 root INFO invalid literal for int() with base 10: '1oo'\n",
      "2021-05-13 20:13:04,075 root INFO invalid literal for int() with base 10: '1oo'\n",
      "2021-05-13 20:13:04,075 root INFO invalid literal for int() with base 10: '1oo'\n"
     ]
    },
    {
     "name": "stdout",
     "output_type": "stream",
     "text": [
      "enter lower limit5\n",
      "enter upper limit1k\n"
     ]
    },
    {
     "name": "stderr",
     "output_type": "stream",
     "text": [
      "2021-05-13 20:13:12,030 root INFO invalid literal for int() with base 10: '1k'\n",
      "2021-05-13 20:13:12,030 root INFO invalid literal for int() with base 10: '1k'\n",
      "2021-05-13 20:13:12,030 root INFO invalid literal for int() with base 10: '1k'\n"
     ]
    },
    {
     "name": "stdout",
     "output_type": "stream",
     "text": [
      "enter lower limit100\n",
      "enter upper limit100000\n"
     ]
    },
    {
     "name": "stderr",
     "output_type": "stream",
     "text": [
      "2021-05-13 20:13:22,148 root INFO User enter interval :100 100000\n",
      "2021-05-13 20:13:22,148 root INFO User enter interval :100 100000\n",
      "2021-05-13 20:13:22,148 root INFO User enter interval :100 100000\n"
     ]
    },
    {
     "name": "stdout",
     "output_type": "stream",
     "text": [
      "153 armstrong \n",
      "370 armstrong \n",
      "371 armstrong \n",
      "407 armstrong \n",
      "1634 armstrong \n",
      "8208 armstrong \n",
      "9474 armstrong \n",
      "54748 armstrong \n"
     ]
    },
    {
     "name": "stderr",
     "output_type": "stream",
     "text": [
      "2021-05-13 20:13:22,495 root INFO output successfull\n",
      "2021-05-13 20:13:22,495 root INFO output successfull\n",
      "2021-05-13 20:13:22,495 root INFO output successfull\n"
     ]
    },
    {
     "name": "stdout",
     "output_type": "stream",
     "text": [
      "92727 armstrong \n",
      "93084 armstrong \n"
     ]
    }
   ],
   "source": [
    "\n",
    "import ArmstrongNumberInterval as asm\n",
    "import logging as lg\n",
    "\n",
    "lg.basicConfig(filename = \"armstrongInterval.log\", level = lg.INFO, format = '%(asctime)s %(levelname)s %(message)s', filemode = 'w+')\n",
    "console_log = lg.StreamHandler()\n",
    "console_log.setLevel(lg.DEBUG)\n",
    "format1 = lg.Formatter('%(asctime)s %(name)s %(levelname)s %(message)s')\n",
    "console_log.setFormatter(format1)\n",
    "lg.getLogger('').addHandler(console_log)\n",
    "\n",
    "while True:\n",
    "    \n",
    "    try:\n",
    "        lower = int(input(\"enter lower limit\"))\n",
    "        upper = int(input(\"enter upper limit\"))\n",
    "        lg.info(\"User enter interval :\" + str(lower) +\" \" + str(upper))\n",
    "        asm.ArmstrongInterval(lower, upper)\n",
    "        #print(armNum)\n",
    "        #lg.info(str(armNum))\n",
    "        \n",
    "    except ValueError as e:\n",
    "        lg.info(e)\n",
    "        \n",
    "    except Exception as e:\n",
    "        lg.info(e)\n",
    "        \n",
    "    else:\n",
    "        lg.info(\"output successfull\")\n",
    "        break\n",
    "           "
   ]
  },
  {
   "cell_type": "markdown",
   "metadata": {},
   "source": [
    "# Q6. Write a Python Program to Find the Sum of Natural Numbers?"
   ]
  },
  {
   "cell_type": "code",
   "execution_count": 1,
   "metadata": {},
   "outputs": [],
   "source": [
    "# Q6. Write a Python Program to Find the Sum of Natural Numbers?\n",
    "import logging as lg\n",
    "lg.basicConfig(filename = \"naturalsum.log\", level = lg.DEBUG, format = '%(asctime)s %(levelname)s %(message)s', filemode = 'w+')\n",
    "\n",
    "console_log = lg.StreamHandler()\n",
    "console_log.setLevel(lg.DEBUG)\n",
    "format1 = lg.Formatter('%(asctime)s %(name)s %(levelname)s %(message)s')\n",
    "console_log.setFormatter(format1)\n",
    "lg.getLogger('').addHandler(console_log)\n",
    "\n"
   ]
  },
  {
   "cell_type": "code",
   "execution_count": 2,
   "metadata": {},
   "outputs": [],
   "source": [
    "def sumOfNaturalNumbers(r):\n",
    "    \n",
    "    lg.info(\"----------Method start------------\")\n",
    "    s = 0\n",
    "    if r >= 0:\n",
    "        for i in range(r + 1):\n",
    "            s += i\n",
    "            lg.info(\"At \" + str(i) + \"\\tSum : \" + str(s))\n",
    "        lg.info(f\"Sum of {r} natural numbers: {s}\")\n",
    "       # return f\"sum of {r} natural numbers : {s}\"\n",
    "    else :\n",
    "        lg.error(\"Please enter positive number\")\n",
    "       # return \"Please enter a positive number\""
   ]
  },
  {
   "cell_type": "code",
   "execution_count": 3,
   "metadata": {},
   "outputs": [
    {
     "name": "stdout",
     "output_type": "stream",
     "text": [
      "enter a  n value10\n"
     ]
    },
    {
     "name": "stderr",
     "output_type": "stream",
     "text": [
      "2021-05-17 19:14:16,619 root INFO User enter interval :10\n",
      "2021-05-17 19:14:16,623 root INFO ----------Method start------------\n",
      "2021-05-17 19:14:16,625 root INFO At 0\tSum : 0\n",
      "2021-05-17 19:14:16,626 root INFO At 1\tSum : 1\n",
      "2021-05-17 19:14:16,627 root INFO At 2\tSum : 3\n",
      "2021-05-17 19:14:16,629 root INFO At 3\tSum : 6\n",
      "2021-05-17 19:14:16,630 root INFO At 4\tSum : 10\n",
      "2021-05-17 19:14:16,632 root INFO At 5\tSum : 15\n",
      "2021-05-17 19:14:16,633 root INFO At 6\tSum : 21\n",
      "2021-05-17 19:14:16,635 root INFO At 7\tSum : 28\n",
      "2021-05-17 19:14:16,638 root INFO At 8\tSum : 36\n",
      "2021-05-17 19:14:16,639 root INFO At 9\tSum : 45\n",
      "2021-05-17 19:14:16,640 root INFO At 10\tSum : 55\n",
      "2021-05-17 19:14:16,641 root INFO Sum of 10 natural numbers: 55\n"
     ]
    }
   ],
   "source": [
    "\n",
    "while True:\n",
    "    \n",
    "    try:\n",
    "        n = int(input(\"enter a  n value\"))\n",
    "        lg.info(\"User enter interval :\" + str(n))\n",
    "        sumOfNaturalNumbers(n)\n",
    "        #print(n_sum)\n",
    "        #lg.info(str(n_sum))\n",
    "                \n",
    "    except ValueError as e:\n",
    "        lg.info(e)\n",
    "        \n",
    "    except Exception as e:\n",
    "        lg.info(e)\n",
    "        \n",
    "    else:\n",
    "        #lg.info(str(n_sum))\n",
    "        break\n",
    "           \n"
   ]
  },
  {
   "cell_type": "code",
   "execution_count": null,
   "metadata": {},
   "outputs": [],
   "source": []
  }
 ],
 "metadata": {
  "kernelspec": {
   "display_name": "Python 3",
   "language": "python",
   "name": "python3"
  },
  "language_info": {
   "codemirror_mode": {
    "name": "ipython",
    "version": 3
   },
   "file_extension": ".py",
   "mimetype": "text/x-python",
   "name": "python",
   "nbconvert_exporter": "python",
   "pygments_lexer": "ipython3",
   "version": "3.8.5"
  }
 },
 "nbformat": 4,
 "nbformat_minor": 4
}
