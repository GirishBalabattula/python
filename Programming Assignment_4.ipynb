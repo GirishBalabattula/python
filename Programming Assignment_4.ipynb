{
 "cells": [
  {
   "cell_type": "markdown",
   "metadata": {},
   "source": [
    "# Programming Assignment_4"
   ]
  },
  {
   "cell_type": "markdown",
   "metadata": {},
   "source": [
    "1. Write a Python Program to Find the Factorial of a Number?\n",
    "2. Write a Python Program to Display the multiplication Table?\n",
    "3. Write a Python Program to Print the Fibonacci sequence?\n",
    "4. Write a Python Program to Check Armstrong Number?\n",
    "5. Write a Python Program to Find Armstrong Number in an Interval?\n",
    "6. Write a Python Program to Find the Sum of Natural Numbers?"
   ]
  },
  {
   "cell_type": "code",
   "execution_count": 4,
   "metadata": {},
   "outputs": [
    {
     "name": "stdout",
     "output_type": "stream",
     "text": [
      "Enter an integer value6\n",
      "6! = 720\n"
     ]
    }
   ],
   "source": [
    "#Q1. Write a Python Program to Find the Factorial of a Number?\n",
    "def factorial(num):\n",
    "    if num >= 0:\n",
    "        if num == 0:\n",
    "            return 1\n",
    "        else:\n",
    "            return num * factorial(num - 1)\n",
    "    else:\n",
    "        return \"Factorial is not exist for negative numbers\"\n",
    "    \n",
    "    \n",
    "#function usage code:    \n",
    "try:\n",
    "    num = int(input(\"Enter an integer value\"))   #Taking user input.\n",
    "    fact = factorial(num)                        #Calling Factorial functions.\n",
    "    print(f\"{num}! = {fact}\")\n",
    "except ValueError as e:                          # Handling the error existed in try block.\n",
    "    print(\"Value ERROR : \",e)\n",
    "except Exception as e:\n",
    "    print(\"error : \",e)\n",
    "    "
   ]
  },
  {
   "cell_type": "code",
   "execution_count": 6,
   "metadata": {},
   "outputs": [
    {
     "name": "stdout",
     "output_type": "stream",
     "text": [
      "Enter a number for multiplication table6\n",
      "Enter limit of table10\n",
      "6 * 1 = 6\n",
      "6 * 2 = 12\n",
      "6 * 3 = 18\n",
      "6 * 4 = 24\n",
      "6 * 5 = 30\n",
      "6 * 6 = 36\n",
      "6 * 7 = 42\n",
      "6 * 8 = 48\n",
      "6 * 9 = 54\n",
      "6 * 10 = 60\n"
     ]
    }
   ],
   "source": [
    "#Q2. Write a Python Program to Display the multiplication Table?\n",
    "\n",
    "def multiplication(num, limit):\n",
    "    for i in range(1,limit+1):\n",
    "        print(f\"{num} * {i} = {num*i}\")\n",
    "        \n",
    "\n",
    "#function usage code:    \n",
    "try:\n",
    "    num = int(input(\"Enter a number for multiplication table\"))   #Taking user input.\n",
    "    limit = int(input(\"Enter limit of table\"))\n",
    "    multiplication(num,limit)                        #Calling multiplication function.\n",
    "    \n",
    "except ValueError as e:                       \n",
    "    print(\"Value ERROR : \",e)\n",
    "except Exception as e:\n",
    "    print(\"error : \",e)"
   ]
  },
  {
   "cell_type": "code",
   "execution_count": 9,
   "metadata": {},
   "outputs": [
    {
     "name": "stdout",
     "output_type": "stream",
     "text": [
      "Enter range of fibonacci sequence10\n",
      "0\n",
      "1\n",
      "1\n",
      "2\n",
      "3\n",
      "5\n",
      "8\n",
      "13\n",
      "21\n",
      "34\n"
     ]
    }
   ],
   "source": [
    "#Q3. Write a Python Program to Print the Fibonacci sequence?\n",
    "\n",
    "def fibonacci(n):\n",
    "    a,b = 0,1\n",
    "    for i in range(n):\n",
    "        print(a)\n",
    "        a,b = b, a+b\n",
    "        \n",
    "        \n",
    "#function usage code:    \n",
    "while True:\n",
    "        \n",
    "    try:\n",
    "        num = int(input(\"Enter range of fibonacci sequence\"))   \n",
    "        fibonacci(num)                  \n",
    "\n",
    "    except ValueError as e:                       \n",
    "        print(\"Value error : \",e)\n",
    "    except Exception as e:\n",
    "        print(\"Error : \",e)\n",
    "    else:\n",
    "        break\n"
   ]
  },
  {
   "cell_type": "code",
   "execution_count": null,
   "metadata": {},
   "outputs": [],
   "source": []
  }
 ],
 "metadata": {
  "kernelspec": {
   "display_name": "Python 3",
   "language": "python",
   "name": "python3"
  },
  "language_info": {
   "codemirror_mode": {
    "name": "ipython",
    "version": 3
   },
   "file_extension": ".py",
   "mimetype": "text/x-python",
   "name": "python",
   "nbconvert_exporter": "python",
   "pygments_lexer": "ipython3",
   "version": "3.8.5"
  }
 },
 "nbformat": 4,
 "nbformat_minor": 4
}
