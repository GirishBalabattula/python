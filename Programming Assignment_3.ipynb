{
 "cells": [
  {
   "cell_type": "markdown",
   "metadata": {},
   "source": [
    "# Programming Assignment_3"
   ]
  },
  {
   "cell_type": "markdown",
   "metadata": {},
   "source": [
    "1. Write a Python Program to Check if a Number is Positive, Negative or Zero?\n",
    "2. Write a Python Program to Check if a Number is Odd or Even?\n",
    "3. Write a Python Program to Check Leap Year?\n",
    "4. Write a Python Program to Check Prime Number?\n",
    "5. Write a Python Program to Print all Prime Numbers in an Interval of 1-10000?"
   ]
  },
  {
   "cell_type": "markdown",
   "metadata": {},
   "source": [
    "# Q1. Write a Python Program to Check if a Number is Positive, Negative or Zero?\n"
   ]
  },
  {
   "cell_type": "code",
   "execution_count": 1,
   "metadata": {},
   "outputs": [
    {
     "name": "stdout",
     "output_type": "stream",
     "text": [
      "enter a number9\n",
      "Number 9 is Positive\n"
     ]
    }
   ],
   "source": [
    "# Q1. Write a Python Program to Check if a Number is Positive, Negative or Zero?\n",
    "\n",
    "def numCheck(num):\n",
    "\n",
    "    if type(num) != str:\n",
    "        if num == 0:\n",
    "            return f\"Number {num} is Zero\"\n",
    "        elif num > 0:\n",
    "            return f\"Number {num} is Positive\"\n",
    "        else:\n",
    "            return f\"Number {num} is negative\"\n",
    "        \n",
    "    else:\n",
    "        return \"Please enter correct numeric data.\"\n",
    "    \n",
    "        \n",
    "#callint the function with various values.\n",
    "while True:\n",
    "    try:\n",
    "        \n",
    "        #taking the inputs from user.\n",
    "        num = int(input(\"enter a number\"))\n",
    "        print(numCheck(num))\n",
    "    # Handling the exception caught in try block.\n",
    "    except ValueError as e:\n",
    "        print(\"Value Error: \", e)\n",
    "        \n",
    "    except Exception as e:\n",
    "        print(\"Error : \",e)\n",
    "    else:\n",
    "        break     #breaking the while loop condition."
   ]
  },
  {
   "cell_type": "markdown",
   "metadata": {},
   "source": [
    "# Q2. Write a Python Program to Check if a Number is Odd or Even?"
   ]
  },
  {
   "cell_type": "code",
   "execution_count": 2,
   "metadata": {},
   "outputs": [
    {
     "name": "stdout",
     "output_type": "stream",
     "text": [
      "enter a number61\n",
      "61 is Odd number\n"
     ]
    }
   ],
   "source": [
    "# Q2. Write a Python Program to Check if a Number is Odd or Even?\n",
    "\n",
    "def EvenOrOdd(num):\n",
    "    if type(num) == int:\n",
    "        if num == 0:\n",
    "            return \"The number is Zero.\"\n",
    "        elif num % 2 == 0:\n",
    "            return f\"{num} is Even number\"\n",
    "        else:\n",
    "            return f\"{num} is Odd number\"\n",
    "            \n",
    "    else:\n",
    "        return \"Enter valid data.\"\n",
    "    \n",
    "# Calling the function.\n",
    "while True:\n",
    "    try:\n",
    "        \n",
    "        #taking the inputs from user.\n",
    "        num = int(input(\"enter a number\"))\n",
    "        print(EvenOrOdd(num))\n",
    "    # Handling the exception caught in try block.\n",
    "    except ValueError as e:\n",
    "        print(\"Value Error: \", e)\n",
    "        \n",
    "    except Exception as e:\n",
    "        print(\"Error : \",e)\n",
    "    else:\n",
    "        break     #breaking the while loop condition."
   ]
  },
  {
   "cell_type": "markdown",
   "metadata": {},
   "source": [
    "# Q3. Write a Python Program to Check Leap Year?"
   ]
  },
  {
   "cell_type": "code",
   "execution_count": 3,
   "metadata": {},
   "outputs": [
    {
     "name": "stdout",
     "output_type": "stream",
     "text": [
      "enter a year2022\n",
      "2022 is not a Leap year\n"
     ]
    }
   ],
   "source": [
    "#Q3. Write a Python Program to Check Leap Year?\n",
    "\n",
    "def leapYear(year):\n",
    "    if year%4 == 0:\n",
    "        return f\"{year} is Leap year\"\n",
    "    else:\n",
    "        return f\"{year} is not a Leap year\"\n",
    "    \n",
    "#Calling LeapYear function:\n",
    "while True:\n",
    "\n",
    "    try:\n",
    "        year = int(input(\"enter a year\"))\n",
    "        print(leapYear(year))\n",
    "        \n",
    "    except ValueError as e:\n",
    "        print(\"Value Error : \",e)\n",
    "        \n",
    "    except Exception as e:\n",
    "        print(\"Error : \", e)\n",
    "    else:\n",
    "        break"
   ]
  },
  {
   "cell_type": "markdown",
   "metadata": {},
   "source": [
    "#  Q4. Write a Python Program to Check Prime Number?"
   ]
  },
  {
   "cell_type": "code",
   "execution_count": 13,
   "metadata": {},
   "outputs": [
    {
     "name": "stdout",
     "output_type": "stream",
     "text": [
      "enter anumber to check prime or not:  31\n",
      "31 is Prime number\n"
     ]
    }
   ],
   "source": [
    "# Q4. Write a Python Program to Check Prime Number?\n",
    "\n",
    "def primeNumber(num):\n",
    "    if num > 1:\n",
    "        for i in range(2,num):\n",
    "            if num % i == 0:\n",
    "                return f\"{num} is not Prime number\"\n",
    "                break\n",
    "        else:\n",
    "            return f\"{num} is Prime number\"\n",
    "    else:\n",
    "        return \"enter a positive number\"\n",
    "        \n",
    "\n",
    "# Calling primeNumber function.\n",
    "while True:\n",
    "    try:\n",
    "        num = int(input(\"enter anumber to check prime or not:  \"))\n",
    "        pm = primeNumber(num)\n",
    "        print(pm)\n",
    "        \n",
    "    except ValueError as e:\n",
    "        print(\"Value Error : \", e)\n",
    "        \n",
    "    except Exception as e:\n",
    "        print(\"Error : \", e)\n",
    "    else:\n",
    "        break\n"
   ]
  },
  {
   "cell_type": "markdown",
   "metadata": {},
   "source": [
    "#  Q5. Write a Python Program to Print all Prime Numbers in an Interval of 1-10000?"
   ]
  },
  {
   "cell_type": "code",
   "execution_count": 11,
   "metadata": {},
   "outputs": [
    {
     "name": "stdout",
     "output_type": "stream",
     "text": [
      "Enter lower limit: 1\n",
      "Enter upper limit: 1000\n",
      "All prime numbers between 1 and 1000 :\n",
      "[1, 2, 3, 5, 7, 11, 13, 17, 19, 23, 29, 31, 37, 41, 43, 47, 53, 59, 61, 67, 71, 73, 79, 83, 89, 97, 101, 103, 107, 109, 113, 127, 131, 137, 139, 149, 151, 157, 163, 167, 173, 179, 181, 191, 193, 197, 199, 211, 223, 227, 229, 233, 239, 241, 251, 257, 263, 269, 271, 277, 281, 283, 293, 307, 311, 313, 317, 331, 337, 347, 349, 353, 359, 367, 373, 379, 383, 389, 397, 401, 409, 419, 421, 431, 433, 439, 443, 449, 457, 461, 463, 467, 479, 487, 491, 499, 503, 509, 521, 523, 541, 547, 557, 563, 569, 571, 577, 587, 593, 599, 601, 607, 613, 617, 619, 631, 641, 643, 647, 653, 659, 661, 673, 677, 683, 691, 701, 709, 719, 727, 733, 739, 743, 751, 757, 761, 769, 773, 787, 797, 809, 811, 821, 823, 827, 829, 839, 853, 857, 859, 863, 877, 881, 883, 887, 907, 911, 919, 929, 937, 941, 947, 953, 967, 971, 977, 983, 991, 997]\n"
     ]
    }
   ],
   "source": [
    "# Q5. Write a Python Program to Print all Prime Numbers in an Interval of 1-10000?\n",
    "\n",
    "#Function is used print all prime numbers in given interval.\n",
    "def primeNumberRange(start, end):\n",
    "    primeList = []                  # defining a list\n",
    "    for num in range(start,end+1):\n",
    "        if num > 1:\n",
    "            for i in range(2,num):\n",
    "                if num % i == 0:\n",
    "                    break\n",
    "            else:\n",
    "                primeList.append(num)    # appending prime number to list\n",
    "        else:\n",
    "            primeList.append(num)\n",
    "    return primeList\n",
    "\n",
    "\n",
    "\n",
    "\n",
    "# Calling the primeNumberRange function.\n",
    "while True:\n",
    "    try:\n",
    "        lower = int(input(\"Enter lower limit: \"))\n",
    "        upper = int(input(\"Enter upper limit: \"))\n",
    "    \n",
    "        primenumbers = primeNumberRange(lower, upper)  #calling primenumber function\n",
    "    \n",
    "    except Exception as e:\n",
    "        print(\"error : \", e)\n",
    "    \n",
    "    else:\n",
    "        print(f\"All prime numbers between {lower} and {upper} :\")\n",
    "        print(primenumbers)\n",
    "        break\n"
   ]
  },
  {
   "cell_type": "code",
   "execution_count": null,
   "metadata": {},
   "outputs": [],
   "source": []
  }
 ],
 "metadata": {
  "kernelspec": {
   "display_name": "Python 3",
   "language": "python",
   "name": "python3"
  },
  "language_info": {
   "codemirror_mode": {
    "name": "ipython",
    "version": 3
   },
   "file_extension": ".py",
   "mimetype": "text/x-python",
   "name": "python",
   "nbconvert_exporter": "python",
   "pygments_lexer": "ipython3",
   "version": "3.8.5"
  }
 },
 "nbformat": 4,
 "nbformat_minor": 4
}
