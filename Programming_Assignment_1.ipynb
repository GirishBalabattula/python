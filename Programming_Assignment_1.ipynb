{
 "cells": [
  {
   "cell_type": "markdown",
   "metadata": {},
   "source": [
    "# Programming_Assignment_1"
   ]
  },
  {
   "cell_type": "markdown",
   "metadata": {},
   "source": [
    "1.\tWrite a Python program to print \"Hello Python\"?\n",
    "2.\tWrite a Python program to do arithmetical operations addition and division.?\n",
    "3.\tWrite a Python program to find the area of a triangle?\n",
    "4.\tWrite a Python program to swap two variables?\n",
    "5.\tWrite a Python program to generate a random number?"
   ]
  },
  {
   "cell_type": "code",
   "execution_count": 1,
   "metadata": {},
   "outputs": [
    {
     "name": "stdout",
     "output_type": "stream",
     "text": [
      "\"Hello Python\"\n",
      "Hello Python\n"
     ]
    },
    {
     "data": {
      "text/plain": [
       "'Hello Python'"
      ]
     },
     "execution_count": 1,
     "metadata": {},
     "output_type": "execute_result"
    }
   ],
   "source": [
    "# Q1. Write a Python program to print \"Hello Python\" ?\n",
    "\n",
    "statement = \"Hello Python\"\n",
    "print('\"Hello Python\"')\n",
    "print(statement)\n",
    "statement"
   ]
  },
  {
   "cell_type": "code",
   "execution_count": 2,
   "metadata": {},
   "outputs": [
    {
     "name": "stdout",
     "output_type": "stream",
     "text": [
      "Enter first number5\n",
      "Enter second number3\n",
      "Addition 5 + 3 = 8\n",
      "Division 5 / 3 = 1.6666666666666667\n"
     ]
    }
   ],
   "source": [
    "# Q2. Write a Python program to do arithmatical operations addition and division ?\n",
    "def addition(a, b):\n",
    "    return a+b\n",
    "\n",
    "def division(a,b):\n",
    "    return a/b\n",
    "\n",
    "while True:\n",
    "    try:\n",
    "        a = int(input(\"Enter first number\"))\n",
    "        b = int(input(\"Enter second number\"))\n",
    "        add = addition(a,b)\n",
    "        div = division(a,b)\n",
    "        \n",
    "    except ValueError as e:\n",
    "        print(\"Value Error: \", e)\n",
    "    \n",
    "    except Exception as e:\n",
    "        print(\"Error: \",e)\n",
    "    else:\n",
    "        print(\"Addition {} + {} = {}\".format(a,b, add))\n",
    "        print(\"Division {} / {} = {}\".format(a,b, div))\n",
    "        break"
   ]
  },
  {
   "cell_type": "code",
   "execution_count": 3,
   "metadata": {},
   "outputs": [
    {
     "name": "stdout",
     "output_type": "stream",
     "text": [
      "Enter height of a traingle5\n",
      "Enter base of a traingle3\n",
      "Area of a triangle is:  7.5\n"
     ]
    }
   ],
   "source": [
    "#Q3. Write a Python program to find the area of a triangle? (formula area = (h*b)/2)\n",
    "\n",
    "def AreaofTraingle(h, b):\n",
    "    area = (h * b)/2\n",
    "    return area\n",
    "\n",
    "while True:\n",
    "    try:\n",
    "        height = float(input(\"Enter height of a traingle\"))\n",
    "        base = float(input(\"Enter base of a traingle\"))\n",
    "        area = AreaofTraingle(height, base)\n",
    "        print(\"Area of a triangle is: \", area)\n",
    "    except Exception as e:\n",
    "        print(\"My Error in Code: \", e)\n",
    "    else:\n",
    "        break"
   ]
  },
  {
   "cell_type": "code",
   "execution_count": 4,
   "metadata": {},
   "outputs": [
    {
     "name": "stdout",
     "output_type": "stream",
     "text": [
      "Enter first numberl\n",
      "Value Error:  invalid literal for int() with base 10: 'l'\n",
      "Enter first number23\n",
      "Enter second number11\n",
      "Before swap: num1 = 23, num2= 11 \n",
      "After swap: num1 = 11, num2= 23 \n"
     ]
    }
   ],
   "source": [
    "#Q4. Write a Python program to swap two variables?\n",
    "while True:\n",
    "    try:\n",
    "        num1 = int(input(\"Enter first number\"))\n",
    "        num2 = int(input(\"Enter second number\"))\n",
    "        \n",
    "    except ValueError as e:\n",
    "        print(\"Value Error: \", e)\n",
    "\n",
    "    except Exception as e:\n",
    "        print(e)\n",
    "    else:\n",
    "        print(\"Before swap: num1 = {}, num2= {} \".format(num1, num2))\n",
    "\n",
    "        num1 = num1 + num2\n",
    "        num2 = num1-num2\n",
    "        num1 = num1-num2\n",
    "\n",
    "        print(\"After swap: num1 = {}, num2= {} \".format(num1, num2))\n",
    "        break\n"
   ]
  },
  {
   "cell_type": "code",
   "execution_count": 5,
   "metadata": {},
   "outputs": [
    {
     "name": "stdout",
     "output_type": "stream",
     "text": [
      "enter how many random numbers you want10\n",
      "0.16993162600332035\n",
      "0.8895431388234153\n",
      "0.7876216964934517\n",
      "0.1274735810120533\n",
      "0.3919396102212077\n",
      "0.8195558726742892\n",
      "0.7759941196183682\n",
      "0.4197804919768816\n",
      "0.9986956241375736\n",
      "0.9909325830406452\n"
     ]
    }
   ],
   "source": [
    "#Q5. Write a Python program to generate a random number?\n",
    "\n",
    "#importing random package.\n",
    "import random\n",
    "\n",
    "#taking the input from user.\n",
    "num = int(input(\"enter how many random numbers you want\"))\n",
    "for i in range(num):\n",
    "    print(random.random())  #Calling random function of random calss and printing values."
   ]
  },
  {
   "cell_type": "code",
   "execution_count": null,
   "metadata": {},
   "outputs": [],
   "source": []
  }
 ],
 "metadata": {
  "kernelspec": {
   "display_name": "Python 3",
   "language": "python",
   "name": "python3"
  },
  "language_info": {
   "codemirror_mode": {
    "name": "ipython",
    "version": 3
   },
   "file_extension": ".py",
   "mimetype": "text/x-python",
   "name": "python",
   "nbconvert_exporter": "python",
   "pygments_lexer": "ipython3",
   "version": "3.8.5"
  }
 },
 "nbformat": 4,
 "nbformat_minor": 4
}
