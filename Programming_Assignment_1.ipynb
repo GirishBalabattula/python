{
 "cells": [
  {
   "cell_type": "markdown",
   "metadata": {},
   "source": [
    "# Programming_Assignment_1"
   ]
  },
  {
   "cell_type": "markdown",
   "metadata": {},
   "source": [
    "1.\tWrite a Python program to print \"Hello Python\"?\n",
    "2.\tWrite a Python program to do arithmetical operations addition and division.?\n",
    "3.\tWrite a Python program to find the area of a triangle?\n",
    "4.\tWrite a Python program to swap two variables?\n",
    "5.\tWrite a Python program to generate a random number?"
   ]
  },
  {
   "cell_type": "code",
   "execution_count": 16,
   "metadata": {},
   "outputs": [
    {
     "name": "stdout",
     "output_type": "stream",
     "text": [
      "\"Hello Python\"\n",
      "Hello Python\n"
     ]
    },
    {
     "data": {
      "text/plain": [
       "'Hello Python'"
      ]
     },
     "execution_count": 16,
     "metadata": {},
     "output_type": "execute_result"
    }
   ],
   "source": [
    "# Q1. Write a Python program to print \"Hello Python\" ?\n",
    "\n",
    "statement = \"Hello Python\"\n",
    "print('\"Hello Python\"')\n",
    "print(statement)\n",
    "statement"
   ]
  },
  {
   "cell_type": "code",
   "execution_count": 12,
   "metadata": {},
   "outputs": [
    {
     "name": "stdout",
     "output_type": "stream",
     "text": [
      "Enter first number5\n",
      "Enter second number0\n",
      "Addition 5 + 0 = 5\n",
      "division by zero\n"
     ]
    }
   ],
   "source": [
    "# Q2. Write a Python program to do arithmatical operations addition and division ?\n",
    "def addition(a, b):\n",
    "    return a+b\n",
    "\n",
    "def division(a,b):\n",
    "    return a/b\n",
    "\n",
    "while True:\n",
    "    try:\n",
    "        a = int(input(\"Enter first number\"))\n",
    "        b = int(input(\"Enter second number\"))\n",
    "        add = addition(a,b)\n",
    "        div = division(a,b)\n",
    "    \n",
    "    except Exception as e:\n",
    "        print(\"Error: \",e)\n",
    "    else:\n",
    "        print(\"Addition {} + {} = {}\".format(a,b, add))\n",
    "        print(\"Division {} / {} = {}\".format(a,b, div))\n",
    "        break"
   ]
  },
  {
   "cell_type": "code",
   "execution_count": 10,
   "metadata": {},
   "outputs": [
    {
     "name": "stdout",
     "output_type": "stream",
     "text": [
      "Enter height of a traingle8\n",
      "Enter base of a traingle15\n",
      "Area of a triangle is:  60.0\n"
     ]
    }
   ],
   "source": [
    "#Q3. Write a Python program to find the area of a triangle? (formula area = (h*b)/2)\n",
    "\n",
    "def AreaofTraingle(h, b):\n",
    "    area = (h * b)/2\n",
    "    return area\n",
    "\n",
    "while True:\n",
    "    try:\n",
    "        height = float(input(\"Enter height of a traingle\"))\n",
    "        base = float(input(\"Enter base of a traingle\"))\n",
    "        area = AreaofTraingle(height, base)\n",
    "        print(\"Area of a triangle is: \", area)\n",
    "    except Exception as e:\n",
    "        print(\"My Error in Code: \", e)\n",
    "    else:\n",
    "        break"
   ]
  },
  {
   "cell_type": "code",
   "execution_count": 9,
   "metadata": {},
   "outputs": [
    {
     "name": "stdout",
     "output_type": "stream",
     "text": [
      "Enter first number5\n",
      "Enter second numbers\n",
      "invalid literal for int() with base 10: 's'\n",
      "Enter first numbere\n",
      "invalid literal for int() with base 10: 'e'\n",
      "Enter first numbere\n",
      "invalid literal for int() with base 10: 'e'\n",
      "Enter first number5\n",
      "Enter second numberf\n",
      "invalid literal for int() with base 10: 'f'\n",
      "Enter first number5\n",
      "Enter second number6\n",
      "Before swap: num1 = 5, num2= 6 \n",
      "After swap: num1 = 6, num2= 5 \n"
     ]
    }
   ],
   "source": [
    "#Q4. Write a Python program to swap two variables?\n",
    "while True:\n",
    "    try:\n",
    "        num1 = int(input(\"Enter first number\"))\n",
    "        num2 = int(input(\"Enter second number\"))\n",
    "\n",
    "    except Exception as e:\n",
    "        print(e)\n",
    "    else:\n",
    "        print(\"Before swap: num1 = {}, num2= {} \".format(num1, num2))\n",
    "\n",
    "        num1 = num1 + num2\n",
    "        num2 = num1-num2\n",
    "        num1 = num1-num2\n",
    "\n",
    "        print(\"After swap: num1 = {}, num2= {} \".format(num1, num2))\n",
    "        break\n"
   ]
  },
  {
   "cell_type": "code",
   "execution_count": 15,
   "metadata": {},
   "outputs": [
    {
     "name": "stdout",
     "output_type": "stream",
     "text": [
      "enter how many random numbers you want5\n",
      "0.031160261415133728\n",
      "0.201518019039589\n",
      "0.24204689945618718\n",
      "0.1452061335607442\n",
      "0.254762840213389\n"
     ]
    }
   ],
   "source": [
    "#Q5. Write a Python program to generate a random number?\n",
    "\n",
    "#importing random package.\n",
    "import random\n",
    "\n",
    "#taking the input from user.\n",
    "num = int(input(\"enter how many random numbers you want\"))\n",
    "for i in range(num):\n",
    "    print(random.random())  #Calling random function of random calss and printing values."
   ]
  },
  {
   "cell_type": "code",
   "execution_count": null,
   "metadata": {},
   "outputs": [],
   "source": []
  }
 ],
 "metadata": {
  "kernelspec": {
   "display_name": "Python 3",
   "language": "python",
   "name": "python3"
  },
  "language_info": {
   "codemirror_mode": {
    "name": "ipython",
    "version": 3
   },
   "file_extension": ".py",
   "mimetype": "text/x-python",
   "name": "python",
   "nbconvert_exporter": "python",
   "pygments_lexer": "ipython3",
   "version": "3.8.5"
  }
 },
 "nbformat": 4,
 "nbformat_minor": 4
}
