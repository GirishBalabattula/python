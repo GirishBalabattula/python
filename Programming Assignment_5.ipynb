{
 "cells": [
  {
   "cell_type": "markdown",
   "metadata": {},
   "source": [
    "# Programming Assignment_5"
   ]
  },
  {
   "cell_type": "markdown",
   "metadata": {},
   "source": [
    "1. Write a Python Program to Find LCM?\n",
    "2. Write a Python Program to Find HCF?\n",
    "3. Write a Python Program to Convert Decimal to Binary, Octal and Hexadecimal?\n",
    "4. Write a Python Program To Find ASCII value of a character?\n",
    "5. Write a Python Program to Make a Simple Calculator with 4 basic mathematical operations?"
   ]
  },
  {
   "cell_type": "markdown",
   "metadata": {},
   "source": [
    "# 1. Write a Python Program to Find LCM?"
   ]
  },
  {
   "cell_type": "code",
   "execution_count": 3,
   "metadata": {},
   "outputs": [],
   "source": [
    "def LCM(a,b):\n",
    "    \"\"\"\n",
    "    Using this function we calculate the LCM of a two values by using Euclidian formula.\n",
    "    \"\"\"\n",
    "    lcm = (a*b)/gcd(a,b)\n",
    "    return lcm\n",
    "\n",
    "def gcd(x, y):\n",
    "    \"\"\"\n",
    "    This function used to calculate GCD(Greatest Common Divisor) of two values.\n",
    "    \"\"\"\n",
    "    while(y):\n",
    "        x, y = y, x % y\n",
    "    return x\n"
   ]
  },
  {
   "cell_type": "code",
   "execution_count": 4,
   "metadata": {},
   "outputs": [
    {
     "name": "stdout",
     "output_type": "stream",
     "text": [
      "enter how many numbers you want: 5\n",
      "enter a number: 2\n",
      "enter a number: 7\n",
      "enter a number: 9\n",
      "enter a number: 3\n",
      "enter a number: 4\n",
      "totla number of values:  [2, 7, 9, 3, 4]\n",
      "LCM of [2, 7, 9, 3, 4] is 252\n"
     ]
    }
   ],
   "source": [
    "while True:\n",
    "    try:\n",
    "        number_list = []\n",
    "        #taking the user input\n",
    "        num = int(input(\"enter how many numbers you want: \"))\n",
    "        \n",
    "        for i in range(num):\n",
    "            #taking the inpyt from user and appending to the list\n",
    "            number_list.append(int(input(\"enter a number: \")))  \n",
    "        \n",
    "        print(\"totla number of values: \",number_list)   #print total values in list.\n",
    "        \n",
    "        first_no = number_list[0]\n",
    "        second_no = number_list[1]\n",
    "        lcm = LCM(first_no,second_no)                   # Calculating LCM of first two numbers.\n",
    "        \n",
    "        for j in range(2, len(number_list)):\n",
    "            lcm = LCM(lcm, number_list[j])              # Calculating LCM of remaing numbers using recusive method. \n",
    "    \n",
    "    except ValueError as e:                             # Handling the value errors in except block.\n",
    "        print(\"Value Error: \",e)\n",
    "        \n",
    "    except Exception as e:      \n",
    "        print(\"Error: \",e)                              # Handle all types of errors.\n",
    "    else:\n",
    "        print(f\"LCM of {number_list} is {int(lcm)}\")    # Displaying LCM of given numbers.\n",
    "        break          # breaking while loop"
   ]
  },
  {
   "cell_type": "markdown",
   "metadata": {},
   "source": [
    "# 2. Write a Python Program to Find HCF?"
   ]
  },
  {
   "cell_type": "code",
   "execution_count": 7,
   "metadata": {},
   "outputs": [],
   "source": [
    "# Function to find HCF the Using Euclidian algorithm\n",
    "def Calcu_HCF(x, y):\n",
    "    while(y):\n",
    "        #print(\"y = \",y)\n",
    "        x, y = y, x % y\n",
    "    return x"
   ]
  },
  {
   "cell_type": "code",
   "execution_count": 9,
   "metadata": {},
   "outputs": [
    {
     "name": "stdout",
     "output_type": "stream",
     "text": [
      "enter range of numbers to calculate HCF: k\n",
      "Value Error:  invalid literal for int() with base 10: 'k'\n",
      "enter range of numbers to calculate HCF: 3\n",
      "enter a number450\n",
      "enter a number1620\n",
      "enter a number990\n",
      "Total valuse:  [450, 1620, 990]\n",
      "HCF of [450, 1620, 990] is : 90\n"
     ]
    }
   ],
   "source": [
    "while True:\n",
    "    try:\n",
    "        l = [] \n",
    "        #taking user input\n",
    "        num_range = int(input(\"enter range of numbers to calculate HCF: \"))\n",
    "\n",
    "        for a in range(num_range):\n",
    "            l.append(int(input(\"enter a number\")))   #taking the inpyt from user and appending to the list\n",
    "        print(\"Total valuse: \", l)\n",
    "\n",
    "        n1 = l[0]\n",
    "        n2 = l[1]\n",
    "        hcf = Calcu_HCF(n1,n2)                       # Calculating HCF of first two numbers.\n",
    "\n",
    "        for i in range(2, len(l)):\n",
    "            hcf = Calcu_HCF(hcf, l[i])               # Calculating HCF of remaing numbers using recusive method.\n",
    "\n",
    "    except ValueError as e:\n",
    "        print(\"Value Error: \",e)                     # Handling the value errors in except block.\n",
    "\n",
    "    except ValueError as e:\n",
    "        print(\"Value Error: \",e)                     # Handle all types of errors.\n",
    "    else:\n",
    "        print(f\"HCF of {l} is : {hcf}\")              # Displaying LCM of given numbers.\n",
    "        break     # breaking while loop\n"
   ]
  },
  {
   "cell_type": "markdown",
   "metadata": {},
   "source": [
    "# 3. Write a Python Program to Convert Decimal to Binary, Octal and Hexadecimal?"
   ]
  },
  {
   "cell_type": "markdown",
   "metadata": {},
   "source": [
    "# DecimalToAll.py"
   ]
  },
  {
   "cell_type": "code",
   "execution_count": 12,
   "metadata": {},
   "outputs": [],
   "source": [
    "#Q5. Write a Python Program to Make a Simple Calculator with 4 basic mathematical operations?\n",
    "\n",
    "def toBinary(num):\n",
    "    \"\"\"\n",
    "    toBinary function converts given decimal number into binary format. \n",
    "    \"\"\"\n",
    "    if num > 1:\n",
    "        toBinary((num // 2))         # Calling toBinary() function recursively.\n",
    "    print(num % 2, end = '')\n",
    "        \n",
    "\n",
    "def toOctal(num):\n",
    "    \"\"\"\n",
    "    toOctal function converts given decimal number into Octal format. \n",
    "    \"\"\"\n",
    "    oct_no = 0\n",
    "    c_val = 1        \n",
    "    while(num != 0):\n",
    "        r = num % 8\n",
    "        oct_no +=r * c_val\n",
    "        c_val *= 10\n",
    "        num //= 8\n",
    "    return oct_no\n",
    "        \n",
    "def toHexa(num):\n",
    "    digits = \"0123456789ABCDEF\"\n",
    "    x = (num % 16)\n",
    "    rest = num // 16\n",
    "    if (rest == 0):\n",
    "        return digits[x]\n",
    "    return toHexa(rest) + digits[x]"
   ]
  },
  {
   "cell_type": "code",
   "execution_count": 1,
   "metadata": {},
   "outputs": [
    {
     "name": "stdout",
     "output_type": "stream",
     "text": [
      "enter a decimal number15\n",
      "1111 is binary form of 15 None\n",
      "15 Octal form:  17\n",
      "15 HexaDecimal form:  F\n"
     ]
    }
   ],
   "source": [
    "import DecimalToAll as nc\n",
    "\n",
    "while True:\n",
    "    try:\n",
    "        d_no = int(input(\"enter a decimal number\"))\n",
    "        print(f\" is binary form of {d_no}\",nc.toBinary(d_no))\n",
    "        print(f\"{d_no} Octal form: \",nc.toOctal(d_no))\n",
    "        print(f\"{d_no} HexaDecimal form: \",nc.toHexa(d_no))\n",
    "    except ValueError as e:\n",
    "        print(\"Value Error: \",e)\n",
    "    except Exception as e:\n",
    "        print(\"Error: \",e)\n",
    "    else:\n",
    "        break"
   ]
  },
  {
   "cell_type": "markdown",
   "metadata": {},
   "source": [
    "# 4. Write a Python Program To Find ASCII value of a character?"
   ]
  },
  {
   "cell_type": "markdown",
   "metadata": {},
   "source": [
    "#    ASCII value of single character:"
   ]
  },
  {
   "cell_type": "code",
   "execution_count": 19,
   "metadata": {},
   "outputs": [
    {
     "name": "stdout",
     "output_type": "stream",
     "text": [
      "enter any characterS\n",
      "ASCII of S : 83\n"
     ]
    }
   ],
   "source": [
    "try:\n",
    "    char = input(\"enter any character\")\n",
    "    asc_value = ord(char)\n",
    "    print(f\"ASCII of {char} : {asc_value}\")\n",
    "\n",
    "except Exception as e:\n",
    "    print(\"Error: \",e)"
   ]
  },
  {
   "cell_type": "markdown",
   "metadata": {},
   "source": [
    "# ASCII value for string of characters: "
   ]
  },
  {
   "cell_type": "code",
   "execution_count": 20,
   "metadata": {},
   "outputs": [
    {
     "name": "stdout",
     "output_type": "stream",
     "text": [
      "enter any string to find ASCII values: Girish\n",
      "ASCII value of G : 71\n",
      "ASCII value of i : 105\n",
      "ASCII value of r : 114\n",
      "ASCII value of i : 105\n",
      "ASCII value of s : 115\n",
      "ASCII value of h : 104\n"
     ]
    }
   ],
   "source": [
    "try:\n",
    "    st = input(\"enter any string to find ASCII values: \")\n",
    "    for i in st:\n",
    "        print(f\"ASCII value of {i} : {ord(i)}\", end =\"\\n\")\n",
    "    \n",
    "except Exception as e:\n",
    "    print(\"Error: \",e)"
   ]
  },
  {
   "cell_type": "markdown",
   "metadata": {},
   "source": [
    "# 5. Write a Python Program to Make a Simple Calculator with 4 basic mathematical operations?"
   ]
  },
  {
   "cell_type": "code",
   "execution_count": 1,
   "metadata": {},
   "outputs": [],
   "source": [
    "class cal:\n",
    "    \n",
    "    def add(self,lst):\n",
    "        self.lst =lst\n",
    "        s = sum(lst)\n",
    "        print(f\"sum of {self.lst} = {s}\")\n",
    "        \n",
    "    def sub(self,lst):\n",
    "        self.lst =lst\n",
    "        s = 0\n",
    "        for i in self.lst:\n",
    "            s -= i\n",
    "        print(f\"sub of {self.lst} = {s}\")\n",
    "        \n",
    "    def mul(self,lst):\n",
    "        s = 0\n",
    "        self.lst =lst\n",
    "        for i in self.lst:\n",
    "            s *= i\n",
    "        print(f\"mul of {self.lst} = {s}\")\n",
    "        \n",
    "    def div(self,n,d):\n",
    "        self.n = n\n",
    "        self.d = d\n",
    "        if d != 0:\n",
    "            dd = n / d\n",
    "            print(f\"Dicision of {n}/{d} = {dd}\")\n",
    "        else:\n",
    "            print(f\"Division of {n}/{d} = Infinity\")"
   ]
  },
  {
   "cell_type": "code",
   "execution_count": 2,
   "metadata": {},
   "outputs": [
    {
     "name": "stdout",
     "output_type": "stream",
     "text": [
      "sum of [2, 3, 5, 6, 8] = 24\n",
      "sub of [8, 9, 5, 1, 20] = -43\n",
      "mul of [2, 3, 5] = 0\n",
      "Division of 5/0 = Infinity\n"
     ]
    }
   ],
   "source": [
    "a = cal()\n",
    "a.add([2,3,5,6,8])\n",
    "a.sub([8,9,5,1,20])\n",
    "a.mul([2,3,5])\n",
    "a.div(5,0)"
   ]
  },
  {
   "cell_type": "code",
   "execution_count": null,
   "metadata": {},
   "outputs": [],
   "source": []
  }
 ],
 "metadata": {
  "kernelspec": {
   "display_name": "Python 3",
   "language": "python",
   "name": "python3"
  },
  "language_info": {
   "codemirror_mode": {
    "name": "ipython",
    "version": 3
   },
   "file_extension": ".py",
   "mimetype": "text/x-python",
   "name": "python",
   "nbconvert_exporter": "python",
   "pygments_lexer": "ipython3",
   "version": "3.8.5"
  }
 },
 "nbformat": 4,
 "nbformat_minor": 4
}
