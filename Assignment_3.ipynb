{
 "cells": [
  {
   "cell_type": "markdown",
   "metadata": {},
   "source": [
    "# Assignment_3"
   ]
  },
  {
   "cell_type": "markdown",
   "metadata": {},
   "source": [
    "# 1. Why are functions advantageous to have in your programs?"
   ]
  },
  {
   "cell_type": "markdown",
   "metadata": {},
   "source": [
    "A function is a block of code which only runs when it is called. You can pass data as parameters into a function. A function can return data as a result. A function can be defined by using def keyword.\n",
    "\n",
    "The main advantage of functions, it allows us to divide a large program into the basic building blocks, the function contains the set of programming statements enclosed. \n",
    "\n",
    "A function can be called multiple times when it required to provide reusability and modularity."
   ]
  },
  {
   "cell_type": "markdown",
   "metadata": {},
   "source": [
    "# 2. When does the code in a function run: when it's specified or when it's called?"
   ]
  },
  {
   "cell_type": "markdown",
   "metadata": {},
   "source": [
    "The code in side the function can run when its called.\n",
    "\n",
    "We can call the function multiple times once it defined, by this way we can provide the reusability of the code."
   ]
  },
  {
   "cell_type": "markdown",
   "metadata": {},
   "source": [
    "# 3. What statement creates a function?"
   ]
  },
  {
   "cell_type": "markdown",
   "metadata": {},
   "source": [
    "Python provides the def keyword along with the function name to define the function, a function accepts the parameter (argument) and they can be optional. AA function must return a value.\n",
    "\n",
    "The function block is started with the colon (:), and block statements must be at the same indentation.\n",
    "\n",
    "The return statement is used to return the value"
   ]
  },
  {
   "cell_type": "raw",
   "metadata": {},
   "source": [
    "Syntax:\n",
    "\n",
    "def my_function(parameters):  \n",
    "      function_block  \n",
    "return expression  "
   ]
  },
  {
   "cell_type": "markdown",
   "metadata": {},
   "source": [
    "# 4. What is the difference between a function and a function call?"
   ]
  },
  {
   "cell_type": "markdown",
   "metadata": {},
   "source": [
    "### Function:\n",
    "A function is a block of code which only runs when it is called. You can pass data as parameters into a function. A function can return data as a result. A function can be defined by using def keyword.\n"
   ]
  },
  {
   "cell_type": "markdown",
   "metadata": {},
   "source": [
    "### Function call:\n",
    "\n",
    "Function call means calling a function by its name to run/execute it. We can call a functions as many times as we required."
   ]
  },
  {
   "cell_type": "markdown",
   "metadata": {},
   "source": [
    "# 5. How many global scopes are there in a Python program? How many local scopes?"
   ]
  },
  {
   "cell_type": "markdown",
   "metadata": {},
   "source": [
    "Global Scope is one, Local scopes can be many.\n",
    "\n",
    "### Global Scope:\n",
    "This Python scope contains all of the names that you define at the top level of a program or a module. Names in this Python scope are visible from everywhere in your code.\n",
    "\n",
    "We can also make a function variable reffered to global variable by using global keyword. \n",
    "\n",
    "### Local Scope:\n",
    "This Python scope contains the names that you define inside the function. It’s created at function call, not at function definition, if you call the same function multiple times, or recursively each call will result in a new local scope being created."
   ]
  },
  {
   "cell_type": "markdown",
   "metadata": {},
   "source": [
    "# 6. What happens to variables in a local scope when the function call returns?"
   ]
  },
  {
   "cell_type": "markdown",
   "metadata": {},
   "source": [
    "The variable of a function has local scope to that function, it's created only when the function called, not at function definition.\n",
    "\n",
    "So, when the function call returns, the memory allocated for variable is deallocated."
   ]
  },
  {
   "cell_type": "markdown",
   "metadata": {},
   "source": [
    "# 7. What is the concept of a return value? Is it possible to have a return value in an expression?"
   ]
  },
  {
   "cell_type": "markdown",
   "metadata": {},
   "source": [
    "The return statement is used inside a function, which is used to return the value to the caller. A return statement consist return keyword followed by value. \n",
    "\n",
    "Yes, it is possible to have return value in an expression but first it evaluate the expression and returns the result."
   ]
  },
  {
   "cell_type": "markdown",
   "metadata": {},
   "source": [
    "# 8. If a function does not have a return statement, what is the return value of a call to that function?"
   ]
  },
  {
   "cell_type": "markdown",
   "metadata": {},
   "source": [
    "If no return statement appeared in a function code, the function returns \" None \" value to the function call.\n",
    "\n",
    "example:"
   ]
  },
  {
   "cell_type": "code",
   "execution_count": 10,
   "metadata": {},
   "outputs": [
    {
     "name": "stdout",
     "output_type": "stream",
     "text": [
      "x :  2\n",
      "c :  None\n"
     ]
    }
   ],
   "source": [
    "def a():\n",
    "    x = 2\n",
    "    print('x : ',x)\n",
    "    \n",
    "c = a()\n",
    "print('c : ',c)"
   ]
  },
  {
   "cell_type": "markdown",
   "metadata": {},
   "source": [
    "# 9. How do you make a function variable refer to the global variable?"
   ]
  },
  {
   "cell_type": "markdown",
   "metadata": {},
   "source": [
    "Using global keyword we can make a function variable refer to the global variable of that program / module.\n",
    "\n",
    "Example:"
   ]
  },
  {
   "cell_type": "code",
   "execution_count": 19,
   "metadata": {},
   "outputs": [
    {
     "name": "stdout",
     "output_type": "stream",
     "text": [
      "Outside a =  2\n",
      "Inside test a =  10\n"
     ]
    }
   ],
   "source": [
    "a = 2\n",
    "\n",
    "def test():\n",
    "    global a\n",
    "    print('Inside test a = ', a*5)\n",
    "    \n",
    "print(\"Outside a = \",a)\n",
    "\n",
    "test()"
   ]
  },
  {
   "cell_type": "markdown",
   "metadata": {},
   "source": [
    "# 10. What is the data type of None?"
   ]
  },
  {
   "cell_type": "markdown",
   "metadata": {},
   "source": [
    "The data type of None is NoneType"
   ]
  },
  {
   "cell_type": "code",
   "execution_count": 20,
   "metadata": {},
   "outputs": [
    {
     "data": {
      "text/plain": [
       "NoneType"
      ]
     },
     "execution_count": 20,
     "metadata": {},
     "output_type": "execute_result"
    }
   ],
   "source": [
    "type(None)"
   ]
  },
  {
   "cell_type": "markdown",
   "metadata": {},
   "source": [
    "# 11. What does the sentence import areallyourpetsnamederic do?"
   ]
  },
  {
   "cell_type": "markdown",
   "metadata": {},
   "source": [
    "import areallyourpetsnamederic will import \" areallyourpetsnamederic.py \" file."
   ]
  },
  {
   "cell_type": "markdown",
   "metadata": {},
   "source": [
    "# 12. If you had a bacon() feature in a spam module, what would you call it after importing spam?"
   ]
  },
  {
   "cell_type": "markdown",
   "metadata": {},
   "source": [
    "if spam module have bacon() function, first i will import spam module into my program then i will call bacon() function as spam.bacon().\n",
    "\n",
    "Ex:\n",
    "\n",
    "import spam\n",
    "\n",
    "spam.bacon()"
   ]
  },
  {
   "cell_type": "markdown",
   "metadata": {},
   "source": [
    "# 13. What can you do to save a programme from crashing if it encounters an error? "
   ]
  },
  {
   "cell_type": "markdown",
   "metadata": {},
   "source": [
    "Generally a running program will crash if it encounters runtime errors, we can avoid this situation by using exception handling concept.\n",
    "\n",
    "in python we can handle exception by using try-except concepts. Try block contains suspecious code which may cause to get errors, except block can handle the error."
   ]
  },
  {
   "cell_type": "raw",
   "metadata": {},
   "source": [
    "Syntax:\n",
    "\n",
    "try:\n",
    "    # suspecious code\n",
    "except:\n",
    "    # executed if error in the try block\n",
    "else:\n",
    "    # execute only if try block execute successfully.\n",
    "final:\n",
    "    # executes in any circumstances."
   ]
  },
  {
   "cell_type": "markdown",
   "metadata": {},
   "source": [
    "# 14. What is the purpose of the try clause? What is the purpose of the except clause?"
   ]
  },
  {
   "cell_type": "markdown",
   "metadata": {},
   "source": [
    "try clause always used to check  some code for errors, the code inside the try block will execute when there is no error.\n",
    "\n",
    "except clause code is used to handle the errors & it executes only when the errors occurred in try clause, we can also write more than one except clause for a try clause."
   ]
  },
  {
   "cell_type": "code",
   "execution_count": null,
   "metadata": {},
   "outputs": [],
   "source": []
  }
 ],
 "metadata": {
  "kernelspec": {
   "display_name": "Python 3",
   "language": "python",
   "name": "python3"
  },
  "language_info": {
   "codemirror_mode": {
    "name": "ipython",
    "version": 3
   },
   "file_extension": ".py",
   "mimetype": "text/x-python",
   "name": "python",
   "nbconvert_exporter": "python",
   "pygments_lexer": "ipython3",
   "version": "3.8.5"
  }
 },
 "nbformat": 4,
 "nbformat_minor": 4
}
