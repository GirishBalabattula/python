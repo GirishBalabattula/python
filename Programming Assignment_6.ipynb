{
 "cells": [
  {
   "cell_type": "markdown",
   "metadata": {},
   "source": [
    "# Programming Assignment_6"
   ]
  },
  {
   "cell_type": "markdown",
   "metadata": {},
   "source": [
    "1. Write a Python Program to Display Fibonacci Sequence Using Recursion?\n",
    "2. Write a Python Program to Find Factorial of Number Using Recursion?\n",
    "3. Write a Python Program to calculate your Body Mass Index?\n",
    "4. Write a Python Program to calculate the natural logarithm of any number?\n",
    "5. Write a Python Program for cube sum of first n natural numbers?"
   ]
  },
  {
   "cell_type": "markdown",
   "metadata": {},
   "source": [
    "# 1. Write a Python Program to Display Fibonacci Sequence Using Recursion? "
   ]
  },
  {
   "cell_type": "code",
   "execution_count": 1,
   "metadata": {},
   "outputs": [],
   "source": [
    "#Q1. Write a Python Program to Display Fibonacci Sequence Using Recursion?\n",
    "class Fibonacii:\n",
    "    def fib_recur(self,n):\n",
    "        if n <= 1:\n",
    "            return n\n",
    "        else:\n",
    "            return self.fib_recur(n-1) + self.fib_recur(n-2)    \n",
    "            "
   ]
  },
  {
   "cell_type": "code",
   "execution_count": 2,
   "metadata": {},
   "outputs": [
    {
     "name": "stdout",
     "output_type": "stream",
     "text": [
      "Enter a number10\n",
      "0 1 1 2 3 5 8 13 21 34 "
     ]
    }
   ],
   "source": [
    "# FUnction usage code:\n",
    "while True:\n",
    "    try:\n",
    "        n = int(input(\"Enter a number\"))\n",
    "        f = Fibonacii()\n",
    "        for i in range(n):\n",
    "            print(f.fib_recur(i),end=\" \")\n",
    "    except Exception as e:\n",
    "        print(\"Error : \",e)\n",
    "    else:\n",
    "        break"
   ]
  },
  {
   "cell_type": "markdown",
   "metadata": {},
   "source": [
    "# 2. Write a Python Program to Find Factorial of Number Using Recursion?"
   ]
  },
  {
   "cell_type": "code",
   "execution_count": 3,
   "metadata": {},
   "outputs": [],
   "source": [
    "# Q2. Write a Python Program to Find Factorial of Number Using Recursion?\n",
    "\n",
    "class Facto:\n",
    "    \n",
    "    def factorial(self,num):\n",
    "        if num >= 0:\n",
    "            if num == 0:\n",
    "                return 1\n",
    "            else:\n",
    "                return num * self.factorial(num - 1)\n",
    "        else:\n",
    "            return \"Factorial is not exist for negative numbers\""
   ]
  },
  {
   "cell_type": "code",
   "execution_count": 4,
   "metadata": {},
   "outputs": [
    {
     "name": "stdout",
     "output_type": "stream",
     "text": [
      "Enter an integer value5\n",
      "5! = 120\n"
     ]
    }
   ],
   "source": [
    "#function usage code:    \n",
    "try:\n",
    "    num = int(input(\"Enter an integer value\"))   #Taking user input.\n",
    "    f = Facto()\n",
    "    fact = f.factorial(num)                        #Calling Factorial functions.\n",
    "    print(f\"{num}! = {fact}\")\n",
    "except ValueError as e:                          # Handling the error existed in try block.\n",
    "    print(\"Value ERROR : \",e)\n",
    "except Exception as e:\n",
    "    print(\"error : \",e)\n",
    "    "
   ]
  },
  {
   "cell_type": "markdown",
   "metadata": {},
   "source": [
    "# 3. Write a Python Program to calculate your Body Mass Index?"
   ]
  },
  {
   "cell_type": "code",
   "execution_count": 20,
   "metadata": {},
   "outputs": [
    {
     "name": "stdout",
     "output_type": "stream",
     "text": [
      "Enter your  weight in kg's88\n",
      "Enter height in cm's175\n",
      "Your Body Mass Index is 28.73  and This is considered Over-weight\n"
     ]
    }
   ],
   "source": [
    "# Q3. Write a Python Program to calculate your Body Mass Index?\n",
    "\n",
    "def BMI():\n",
    "    while True:\n",
    "        try:\n",
    "            kg = float(input(\"Enter your  weight in kg's\"))\n",
    "            m = int(input(\"Enter height in cm's\"))\n",
    "            bmi = round(kg/(m/100)**2,2)\n",
    "            #print(bmi)\n",
    "            \n",
    "        except ValueError as e:\n",
    "            print(\"Value Error : \",e)\n",
    "        except Exception as e:\n",
    "            print(\"Error : \",e)\n",
    "        else:\n",
    "            if bmi >= 18.5 and bmi <= 24.9:\n",
    "                print(f\"Your Body Mass Index is {bmi}  and This is considered Normal\")\n",
    "            elif bmi < 18.5:\n",
    "                print(f\"Your Body Mass Index is {bmi}  and This is considered Under-weight\")\n",
    "            else:\n",
    "                print(f\"Your Body Mass Index is {bmi}  and This is considered Over-weight\")\n",
    "                \n",
    "            break\n",
    "#--------------------------------------------------------------------------------------------------------------\n",
    "\n",
    "BMI()\n"
   ]
  },
  {
   "cell_type": "markdown",
   "metadata": {},
   "source": [
    "# 4. Write a Python Program to calculate the natural logarithm of any number?"
   ]
  },
  {
   "cell_type": "code",
   "execution_count": 27,
   "metadata": {},
   "outputs": [
    {
     "name": "stdout",
     "output_type": "stream",
     "text": [
      "enter any number25\n",
      "enter base value6\n",
      "Natural Logarithm 25 with base 6 : 1.7964888034078543\n"
     ]
    }
   ],
   "source": [
    "# Q4. Write a Python Program to calculate the natural logarithm of any number?\n",
    "\n",
    "import math\n",
    "\n",
    "while True:\n",
    "    try:\n",
    "        n = int(input(\"enter any number\"))\n",
    "        b = int(input(\"enter base value\"))\n",
    "        print(f\"Natural Logarithm {n} with base {b} : {math.log(n, b)}\")      #calculating log value using inbuilt method\n",
    "    \n",
    "    except Exception as e:\n",
    "        print(\"Error : \",e)\n",
    "    \n",
    "    else:\n",
    "        break"
   ]
  },
  {
   "cell_type": "markdown",
   "metadata": {},
   "source": [
    "# 5. Write a Python Program for cube sum of first n natural numbers?"
   ]
  },
  {
   "cell_type": "code",
   "execution_count": 67,
   "metadata": {},
   "outputs": [
    {
     "name": "stdout",
     "output_type": "stream",
     "text": [
      "Enter a number: 25\n",
      "Cube sum of 25 natural numbers is:  105625\n"
     ]
    }
   ],
   "source": [
    "#Q5. Write a Python Program for cube sum of first n natural numbers?\n",
    "\n",
    "def cube_sum(n):\n",
    "    \"\"\"\n",
    "    This function is used to calculate Sum of the cubes of first n natural numbers\n",
    "    \"\"\"\n",
    "    s = int((n * (n + 1 ) / 2)**2)    #Calculating cube sum using maths standard formual\n",
    "    return s\n",
    "\n",
    "while True:\n",
    "    try:\n",
    "        num = int(input(\"Enter a number: \"))\n",
    "        print(f\"Cube sum of {num} natural numbers is: \",cube_sum(25num))\n",
    "    \n",
    "    except Exception as e:\n",
    "        print(\"Error : \",e)\n",
    "    \n",
    "    else:\n",
    "        break"
   ]
  },
  {
   "cell_type": "code",
   "execution_count": null,
   "metadata": {},
   "outputs": [],
   "source": []
  }
 ],
 "metadata": {
  "kernelspec": {
   "display_name": "Python 3",
   "language": "python",
   "name": "python3"
  },
  "language_info": {
   "codemirror_mode": {
    "name": "ipython",
    "version": 3
   },
   "file_extension": ".py",
   "mimetype": "text/x-python",
   "name": "python",
   "nbconvert_exporter": "python",
   "pygments_lexer": "ipython3",
   "version": "3.8.5"
  }
 },
 "nbformat": 4,
 "nbformat_minor": 4
}
