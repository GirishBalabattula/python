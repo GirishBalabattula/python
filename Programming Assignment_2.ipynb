{
 "cells": [
  {
   "cell_type": "markdown",
   "metadata": {},
   "source": [
    "# Programming Assignment_2"
   ]
  },
  {
   "cell_type": "markdown",
   "metadata": {},
   "source": [
    "1.\tWrite a Python program to convert kilometers to miles?\n",
    "2.\tWrite a Python program to convert Celsius to Fahrenheit?\n",
    "3.\tWrite a Python program to display calendar?\n",
    "4.\tWrite a Python program to solve quadratic equation?\n",
    "5.\tWrite a Python program to swap two variables without temp variable?"
   ]
  },
  {
   "cell_type": "code",
   "execution_count": 9,
   "metadata": {},
   "outputs": [
    {
     "name": "stdout",
     "output_type": "stream",
     "text": [
      "Enter kilometers:  dncdsha\n",
      "Error :  could not convert string to float: 'dncdsha'\n",
      "enter data as numerics\n",
      "Enter kilometers:  55\n",
      "55.0 kilometers is equal to 34.175405 miles\n"
     ]
    }
   ],
   "source": [
    "# Q1. Write a Python program to convert kilometers to miles?\n",
    "\n",
    "def kilometersToMiles(kilometer):\n",
    "    \"\"\"\n",
    "    This function converts distance from Kilometers to Miles.\n",
    "    It takes kilometers as an argument and return miles.\n",
    "    \"\"\"\n",
    "    miles = kilometer * 0.621371\n",
    "    return miles\n",
    "\n",
    "\n",
    "while True:\n",
    "    try:\n",
    "        kilometer = float(input(\"Enter kilometers:  \"))\n",
    "        miles = kilometersToMiles(kilometer)\n",
    "        print(f\"{kilometer} kilometers is equal to {miles} miles\")\n",
    "    except Exception as e:\n",
    "        print(\"Error : \",e)\n",
    "        print(\"enter data as numerics\")\n",
    "    else:\n",
    "        break"
   ]
  },
  {
   "cell_type": "code",
   "execution_count": 19,
   "metadata": {},
   "outputs": [
    {
     "name": "stdout",
     "output_type": "stream",
     "text": [
      "Enter celsius:  6\n",
      "6.0C = 42.8F\n"
     ]
    }
   ],
   "source": [
    "#Q2. Write a Python program to convert Celsius to Fahrenheit?\n",
    "\n",
    "def CelsiusToFahrenheit(celsius):\n",
    "    \"\"\"\n",
    "    This function converts temperature from celsius to fahrenheight.\n",
    "    It takes celsius as an argument and return fahrenheight.\n",
    "    \"\"\"\n",
    "    fahrenheight = (celsius*9/5)+32\n",
    "    return fahrenheight\n",
    "\n",
    "while True:\n",
    "    try:\n",
    "        celsius = float(input(\"Enter celsius:  \"))\n",
    "        fahrenheight = CelsiusToFahrenheit(celsius)\n",
    "        print(f\"{celsius}C = {fahrenheight}F\")\n",
    "    except Exception as e:\n",
    "        print(\"Error : \",e)\n",
    "        print(\"enter data as numerics\")\n",
    "    else:\n",
    "        break"
   ]
  },
  {
   "cell_type": "code",
   "execution_count": 26,
   "metadata": {},
   "outputs": [
    {
     "name": "stdout",
     "output_type": "stream",
     "text": [
      "enter the year2021\n",
      "Enter month as number2\n",
      "   February 2021\n",
      "Mo Tu We Th Fr Sa Su\n",
      " 1  2  3  4  5  6  7\n",
      " 8  9 10 11 12 13 14\n",
      "15 16 17 18 19 20 21\n",
      "22 23 24 25 26 27 28\n",
      "\n",
      "                                  2021\n",
      "\n",
      "      January                   February                   March\n",
      "Mo Tu We Th Fr Sa Su      Mo Tu We Th Fr Sa Su      Mo Tu We Th Fr Sa Su\n",
      "             1  2  3       1  2  3  4  5  6  7       1  2  3  4  5  6  7\n",
      " 4  5  6  7  8  9 10       8  9 10 11 12 13 14       8  9 10 11 12 13 14\n",
      "11 12 13 14 15 16 17      15 16 17 18 19 20 21      15 16 17 18 19 20 21\n",
      "18 19 20 21 22 23 24      22 23 24 25 26 27 28      22 23 24 25 26 27 28\n",
      "25 26 27 28 29 30 31                                29 30 31\n",
      "\n",
      "       April                      May                       June\n",
      "Mo Tu We Th Fr Sa Su      Mo Tu We Th Fr Sa Su      Mo Tu We Th Fr Sa Su\n",
      "          1  2  3  4                      1  2          1  2  3  4  5  6\n",
      " 5  6  7  8  9 10 11       3  4  5  6  7  8  9       7  8  9 10 11 12 13\n",
      "12 13 14 15 16 17 18      10 11 12 13 14 15 16      14 15 16 17 18 19 20\n",
      "19 20 21 22 23 24 25      17 18 19 20 21 22 23      21 22 23 24 25 26 27\n",
      "26 27 28 29 30            24 25 26 27 28 29 30      28 29 30\n",
      "                          31\n",
      "\n",
      "        July                     August                  September\n",
      "Mo Tu We Th Fr Sa Su      Mo Tu We Th Fr Sa Su      Mo Tu We Th Fr Sa Su\n",
      "          1  2  3  4                         1             1  2  3  4  5\n",
      " 5  6  7  8  9 10 11       2  3  4  5  6  7  8       6  7  8  9 10 11 12\n",
      "12 13 14 15 16 17 18       9 10 11 12 13 14 15      13 14 15 16 17 18 19\n",
      "19 20 21 22 23 24 25      16 17 18 19 20 21 22      20 21 22 23 24 25 26\n",
      "26 27 28 29 30 31         23 24 25 26 27 28 29      27 28 29 30\n",
      "                          30 31\n",
      "\n",
      "      October                   November                  December\n",
      "Mo Tu We Th Fr Sa Su      Mo Tu We Th Fr Sa Su      Mo Tu We Th Fr Sa Su\n",
      "             1  2  3       1  2  3  4  5  6  7             1  2  3  4  5\n",
      " 4  5  6  7  8  9 10       8  9 10 11 12 13 14       6  7  8  9 10 11 12\n",
      "11 12 13 14 15 16 17      15 16 17 18 19 20 21      13 14 15 16 17 18 19\n",
      "18 19 20 21 22 23 24      22 23 24 25 26 27 28      20 21 22 23 24 25 26\n",
      "25 26 27 28 29 30 31      29 30                     27 28 29 30 31\n",
      "\n"
     ]
    }
   ],
   "source": [
    "#Q3. Write a Python program to display calendar?\n",
    "\n",
    "import calendar  #importing calendar module\n",
    "\n",
    "try:\n",
    "\n",
    "    #Take year & month from user to display that month of the year.\n",
    "    year = int(input(\"enter the year\"))\n",
    "    month = int(input(\"Enter month as number\"))\n",
    "    \n",
    "    # Displaying month of the given year\n",
    "    print(calendar.month(year, month))\n",
    "    \n",
    "    # Displaying given year calendar\n",
    "    print(calendar.calendar(year))\n",
    "except Exception as e:\n",
    "    print(\"Error : \",e)\n",
    "else:\n",
    "    pass"
   ]
  },
  {
   "cell_type": "code",
   "execution_count": 34,
   "metadata": {},
   "outputs": [
    {
     "name": "stdout",
     "output_type": "stream",
     "text": [
      "Roots are real & different\n",
      "-1.0\n",
      "-5.0\n",
      "\n",
      "\n",
      "Roots are real & same \n",
      "1.0\n",
      "\n",
      "\n",
      "Roots are complex & there no x-intercepts\n",
      "1.5 5.5677643628300215j\n",
      "1.5 5.5677643628300215j\n",
      "\n",
      "\n"
     ]
    }
   ],
   "source": [
    "# Q4. Write a Python program to solve quadratic equation?\n",
    "\n",
    "# importing math module to calculate square root.\n",
    "import math\n",
    "\n",
    "def QuadraticRoots(a,b,c):\n",
    "    \"\"\"\n",
    "    Using this function we can find roots of a Quadratic equation.\n",
    "    and we can also know roots are different, same or complex.\n",
    "    \n",
    "    \"\"\"\n",
    "    try:\n",
    "        if a != 0:\n",
    "            disc = b*b-4*a*c\n",
    "            srt_val = math.sqrt(abs(disc))\n",
    "           # r1 = ((-b + srt_val)/(2*a))\n",
    "            #r2 = ((-b - srt_val)/(2*a))\n",
    "\n",
    "            if disc > 0:\n",
    "                print(\"Roots are real & different\")\n",
    "                print((-b + srt_val)/(2*a))\n",
    "                print((-b - srt_val)/(2*a))\n",
    "\n",
    "            elif disc == 0:\n",
    "                print(\"Roots are real & same \")\n",
    "                print((-b)/(2*a))\n",
    "\n",
    "            else:  #disc < 0\n",
    "                print(\"Roots are complex & there no x-intercepts\")\n",
    "                print(- b / (2*a), str(srt_val)+\"j\")\n",
    "                print(- b / (2*a), str(srt_val)+\"j\")\n",
    "\n",
    "\n",
    "        else:\n",
    "            return \"a value must not Zero\"\n",
    "        \n",
    "    except Exception as e:\n",
    "        print(\"Error : \", e)\n",
    "    return \"\\n\"\n",
    "\n",
    "#-------------------------------------------------------------------------------------------------\n",
    "\n",
    "# Function call with  different inputs.\n",
    "\n",
    "print(QuadraticRoots(1,6,5))\n",
    "print(QuadraticRoots(1,-2,1))\n",
    "print(QuadraticRoots(1,-3,10))\n"
   ]
  },
  {
   "cell_type": "code",
   "execution_count": 42,
   "metadata": {},
   "outputs": [
    {
     "name": "stdout",
     "output_type": "stream",
     "text": [
      "enter a number40\n",
      "enter another number78\n",
      "Before swap a = 40, b = 78\n",
      "After swap a = 78, b = 40\n"
     ]
    }
   ],
   "source": [
    "# Q5. Write a Python program to swap two variables without temp variable?\n",
    "\n",
    "#creating Swap funtion\n",
    "def swapTwoNumber(a,b):\n",
    "    \"\"\"\n",
    "    swapTwoNumers funtions can interchange the two values without using temporary variable.\n",
    "    \"\"\"\n",
    "    print(\"Before swap a = {}, b = {}\".format(a,b))\n",
    "    a = a+ b\n",
    "    b = a - b\n",
    "    a = a - b\n",
    "    print(\"After swap a = {}, b = {}\".format(a,b))\n",
    "    \n",
    "# while loop condition always ture.  \n",
    "while True:\n",
    "    try:\n",
    "        \n",
    "        #taking the inputs from user.\n",
    "        n1 = int(input(\"enter a number\"))\n",
    "        n2 = int(input(\"enter another number\"))\n",
    "    \n",
    "    # Handling the exception caught in try block.\n",
    "    except Exception as e:\n",
    "        print(\"Error : \",e)\n",
    "    else:\n",
    "        #calling swapTwoNumber function.\n",
    "        swapTwoNumber(n1, n2)\n",
    "        break     #breaking the while loop condition."
   ]
  },
  {
   "cell_type": "code",
   "execution_count": null,
   "metadata": {},
   "outputs": [],
   "source": []
  }
 ],
 "metadata": {
  "kernelspec": {
   "display_name": "Python 3",
   "language": "python",
   "name": "python3"
  },
  "language_info": {
   "codemirror_mode": {
    "name": "ipython",
    "version": 3
   },
   "file_extension": ".py",
   "mimetype": "text/x-python",
   "name": "python",
   "nbconvert_exporter": "python",
   "pygments_lexer": "ipython3",
   "version": "3.8.5"
  }
 },
 "nbformat": 4,
 "nbformat_minor": 4
}
